{
  "nbformat": 4,
  "nbformat_minor": 0,
  "metadata": {
    "colab": {
      "provenance": [],
      "authorship_tag": "ABX9TyMt0WSrCtKGAV00fVk+5onq",
      "include_colab_link": true
    },
    "kernelspec": {
      "name": "python3",
      "display_name": "Python 3"
    },
    "language_info": {
      "name": "python"
    }
  },
  "cells": [
    {
      "cell_type": "markdown",
      "metadata": {
        "id": "view-in-github",
        "colab_type": "text"
      },
      "source": [
        "<a href=\"https://colab.research.google.com/github/MMZ0406/Final-/blob/main/Final.ipynb\" target=\"_parent\"><img src=\"https://colab.research.google.com/assets/colab-badge.svg\" alt=\"Open In Colab\"/></a>"
      ]
    },
    {
      "cell_type": "markdown",
      "source": [
        "# Introduction\n",
        "Facebook, Amazon, Apple, Netflix, and Google are the strongest companies in the world, and institutional and individual investors are paying keen attention to their quarterly earnings. The debate on the topic at Reddit's R/Walletbets (a major private bets forum) often shows how the fringe is changing. Discussions on these earnings announcements on Reddit's R/WallStreetBets, a significant forum for individual investors, frequently reveal changes in mood both before and after the events. During earnings seasons, how do Reddit discussions on r/WallStreetBets reflect changes in attitude toward FAANG stocks, and do these sentiment swings correspond with changes in stock prices? This study will attempt to answer this issue.\n",
        "\n",
        "# Research Question and Objective\n",
        "Our goal is to study whether sentiment matches stock returns in such conversations in order to provide important new information, as online communities have a greater impact on market dynamics.This research will test two primary hypotheses:\n",
        "\n",
        "1.   Positive sentiment in Reddit discussions before a FAANG company's earningsist call is associated with an increase in the stock price after the earnings announcement.\n",
        "2.   Negative sentiment or skepticism in Reddit discussions before an earnings call predicts lower-than-expected earnings results and a subsequent drop in stock price.\n"
      ],
      "metadata": {
        "id": "jfNNw4JtsMs3"
      }
    }
  ]
}